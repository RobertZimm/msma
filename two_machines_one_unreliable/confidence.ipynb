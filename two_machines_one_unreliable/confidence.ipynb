{
 "cells": [
  {
   "cell_type": "code",
   "execution_count": 1,
   "metadata": {},
   "outputs": [
    {
     "name": "stdout",
     "output_type": "stream",
     "text": [
      "Throughput (M): [np.float64(6.3036), np.float64(6.0482), np.float64(6.1766), np.float64(5.9876), np.float64(6.2006), np.float64(6.0316), np.float64(6.1604), np.float64(6.2236), np.float64(6.2908), np.float64(6.2122), np.float64(6.1278), np.float64(5.9952), np.float64(6.3318), np.float64(6.0152), np.float64(6.1032), np.float64(5.9412), np.float64(6.2856), np.float64(6.4218), np.float64(6.1638), np.float64(6.2844), np.float64(6.1732), np.float64(5.868), np.float64(6.7546), np.float64(6.3414), np.float64(6.1216), np.float64(6.3274), np.float64(6.3056), np.float64(5.9968), np.float64(6.259), np.float64(6.062)]\n"
     ]
    }
   ],
   "source": [
    "from NMachineLineUnreliable import UnreliableProductionLine, mean_confidence_interval\n",
    "import numpy as np\n",
    "import random\n",
    "\n",
    "\n",
    "mu = np.array([ 10,   11,   12, 13,   14]) # processing rates\n",
    "p  = np.array([ 0.01, 0.01, 0.01, 0.01, 0.01]) # failure rates\n",
    "r  = np.array([ 0.1,  0.1,  0.1,  0.1,  0.1]) # repair rates\n",
    "    \n",
    "# Size of buffers between machines\n",
    "C = np.array([4, 3, 2, 1])\n",
    "\n",
    "# Time to be simulated\n",
    "sim_duration = 5000\n",
    "\n",
    "# Initialize the production line\n",
    "prod_line = UnreliableProductionLine(mu=mu, \n",
    "                                        r=r, \n",
    "                                        p=p, \n",
    "                                        C=C)\n",
    "\n",
    "# Simulate M times\n",
    "M = 30\n",
    "th_m, avg_buffer = prod_line.simulate_M(sim_duration=sim_duration, M=M)\n",
    "print(\"Throughput (M):\", th_m)"
   ]
  },
  {
   "cell_type": "code",
   "execution_count": 4,
   "metadata": {},
   "outputs": [
    {
     "name": "stdout",
     "output_type": "stream",
     "text": [
      "(np.float64(6.1838266666666675), np.float64(6.118547352170103), np.float64(6.249105981163232), np.float64(0.13055862899312817))\n"
     ]
    }
   ],
   "source": [
    "# for tight confidence interval let n approach infinity\n",
    "mean_th, lower_th, upper_th, h_th = mean_confidence_interval(th_m)\n",
    "print((mean_th, lower_th, upper_th, 2*h_th))"
   ]
  },
  {
   "cell_type": "code",
   "execution_count": 5,
   "metadata": {},
   "outputs": [
    {
     "name": "stdout",
     "output_type": "stream",
     "text": [
      "(np.float64(2.5395174940923337), np.float64(2.5117468874019613), np.float64(2.567288100782706), np.float64(0.055541213380744685))\n",
      "(np.float64(1.8238227863627818), np.float64(1.8056957375042535), np.float64(1.8419498352213102), np.float64(0.03625409771705682))\n",
      "(np.float64(1.3068636919808179), np.float64(1.2935793926471468), np.float64(1.320147991314489), np.float64(0.026568598667342055))\n",
      "(np.float64(0.7916492442496453), np.float64(0.7833634889099972), np.float64(0.7999349995892935), np.float64(0.01657151067929634))\n"
     ]
    }
   ],
   "source": [
    "avg_buffer = np.array(avg_buffer)\n",
    "\n",
    "for i in range(avg_buffer.shape[1]):\n",
    "    mean_buffer, lower_buffer, upper_buffer, h_buffer = mean_confidence_interval(avg_buffer[:, i])\n",
    "    print((mean_buffer, lower_buffer, upper_buffer, 2*h_buffer))\n",
    "    # print(\"Ratio of throughput and buffer interval length:\", round(h_th/h_buffer, 2), \"\\n\")"
   ]
  }
 ],
 "metadata": {
  "kernelspec": {
   "display_name": "MSMA",
   "language": "python",
   "name": "python3"
  },
  "language_info": {
   "codemirror_mode": {
    "name": "ipython",
    "version": 3
   },
   "file_extension": ".py",
   "mimetype": "text/x-python",
   "name": "python",
   "nbconvert_exporter": "python",
   "pygments_lexer": "ipython3",
   "version": "3.13.0"
  }
 },
 "nbformat": 4,
 "nbformat_minor": 2
}

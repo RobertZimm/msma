{
 "cells": [
  {
   "cell_type": "code",
   "execution_count": 1,
   "metadata": {},
   "outputs": [
    {
     "name": "stdout",
     "output_type": "stream",
     "text": [
      "Throughput (M): [6.2126, 6.295, 6.367, 6.2734, 6.2962, 6.3652, 6.078, 5.9206, 5.995, 6.2034, 6.1428, 6.2026, 6.0584, 5.8208, 6.1072, 6.4936, 6.0786, 6.2872, 6.139, 6.3366, 5.8352, 6.5398, 6.3544, 6.3044, 6.51, 6.2412, 6.0058, 6.2938, 5.984, 6.0702]\n"
     ]
    }
   ],
   "source": [
    "from NMachineLineUnreliable import UnreliableProductionLine, mean_confidence_interval\n",
    "import numpy as np\n",
    "import random\n",
    "\n",
    "\n",
    "mu = np.array([ 10,   11,   12, 13,   14]) # processing rates\n",
    "p  = np.array([ 0.01, 0.01, 0.01, 0.01, 0.01]) # failure rates\n",
    "r  = np.array([ 0.1,  0.1,  0.1,  0.1,  0.1]) # repair rates\n",
    "    \n",
    "# Size of buffers between machines\n",
    "C = np.array([4, 3, 2, 1])\n",
    "\n",
    "# Time to be simulated\n",
    "sim_duration = 5000\n",
    "seed = random.randint(0, 1000)\n",
    "\n",
    "# Initialize the production line\n",
    "prod_line = UnreliableProductionLine(mu=mu, \n",
    "                                        r=r, \n",
    "                                        p=p, \n",
    "                                        C=C)\n",
    "\n",
    "# Simulate M times\n",
    "M = 30\n",
    "th_m, avg_buffer = prod_line.simulate_M(sim_duration=sim_duration, M=M)\n",
    "print(\"Throughput (M):\", th_m)"
   ]
  },
  {
   "cell_type": "code",
   "execution_count": 2,
   "metadata": {},
   "outputs": [
    {
     "name": "stdout",
     "output_type": "stream",
     "text": [
      "(6.193733333333332, 6.124028232707268, 6.263438433959397, 0.13941020125212986)\n"
     ]
    }
   ],
   "source": [
    "# for tight confidence interval let n approach infinity\n",
    "mean_th, lower_th, upper_th, h_th = mean_confidence_interval(th_m)\n",
    "print((mean_th, lower_th, upper_th, 2*h_th))"
   ]
  },
  {
   "cell_type": "code",
   "execution_count": null,
   "metadata": {},
   "outputs": [
    {
     "name": "stdout",
     "output_type": "stream",
     "text": [
      "(30,)\n",
      "(3.2638853004100503, 3.2503494047054886, 3.277421196114612, 0.02707179140912316)\n",
      "Ratio of throughput and buffer interval length: 5.15 \n",
      "\n",
      "(30,)\n",
      "(2.3994776000187055, 2.3901051235241804, 2.4088500765132306, 0.018744952989049952)\n",
      "Ratio of throughput and buffer interval length: 7.44 \n",
      "\n",
      "(30,)\n",
      "(1.757932978186539, 1.7517347422900542, 1.7641312140830236, 0.012396471792969455)\n",
      "Ratio of throughput and buffer interval length: 11.25 \n",
      "\n",
      "(30,)\n",
      "(1.1291643796116257, 1.1262109176202333, 1.1321178416030182, 0.005906923982784997)\n",
      "Ratio of throughput and buffer interval length: 23.6 \n",
      "\n"
     ]
    }
   ],
   "source": [
    "avg_buffer = np.array(avg_buffer)\n",
    "\n",
    "for i in range(avg_buffer.shape[1]):\n",
    "    mean_buffer, lower_buffer, upper_buffer, h_buffer = mean_confidence_interval(avg_buffer[:, i])\n",
    "    print((mean_buffer, lower_buffer, upper_buffer, 2*h_buffer))\n",
    "    print(\"Ratio of throughput and buffer interval length:\", round(h_th/h_buffer, 2), \"\\n\")"
   ]
  }
 ],
 "metadata": {
  "kernelspec": {
   "display_name": "Python 3",
   "language": "python",
   "name": "python3"
  },
  "language_info": {
   "codemirror_mode": {
    "name": "ipython",
    "version": 3
   },
   "file_extension": ".py",
   "mimetype": "text/x-python",
   "name": "python",
   "nbconvert_exporter": "python",
   "pygments_lexer": "ipython3",
   "version": "3.10.12"
  }
 },
 "nbformat": 4,
 "nbformat_minor": 2
}

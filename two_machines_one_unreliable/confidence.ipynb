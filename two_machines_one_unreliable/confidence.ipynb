{
 "cells": [
  {
   "cell_type": "code",
   "execution_count": 1,
   "metadata": {},
   "outputs": [
    {
     "name": "stdout",
     "output_type": "stream",
     "text": [
      "Throughput (M): [np.float64(4.9334), np.float64(5.2158), np.float64(5.2373), np.float64(4.8645), np.float64(4.9659), np.float64(5.063), np.float64(4.8951), np.float64(5.0469), np.float64(4.8737), np.float64(5.0275), np.float64(4.8793), np.float64(5.0848), np.float64(5.0247), np.float64(5.0601), np.float64(4.8763), np.float64(5.0648), np.float64(5.0832), np.float64(4.848), np.float64(5.0069), np.float64(5.2128), np.float64(5.1219), np.float64(5.1138), np.float64(5.0076), np.float64(5.0298), np.float64(4.8128), np.float64(5.05), np.float64(5.0683), np.float64(5.0159), np.float64(4.7812), np.float64(5.0187)]\n"
     ]
    }
   ],
   "source": [
    "from NMachineLineUnreliable import UnreliableProductionLine, mean_confidence_interval\n",
    "import numpy as np\n",
    "import random\n",
    "\n",
    "\n",
    "# mu = np.array([ 10,10,10,10,10]) # processing rates\n",
    "# p  = np.array([ 0.01, 0.01, 0.01, 0.01, 0.01]) # failure rates\n",
    "# r  = np.array([ 0.1,  0.1,  0.1,  0.1,  0.1]) # repair rates\n",
    "    \n",
    "# # Size of buffers between machines\n",
    "# C = np.array([8,8,8,8], dtype=int)\n",
    "\n",
    "mu = np.array([ 10,11,8,13,12]) # processing rates\n",
    "p  = np.array([ 0.02, 0.015, 0.03, 0.04, 0.001]) # failure rates\n",
    "r  = np.array([ 0.13,  0.12,  0.18,  0.15,  0.11]) # repair rates\n",
    "    \n",
    "# Size of buffers between machines\n",
    "C = np.array([2,8,3,5], dtype=int)\n",
    "\n",
    "# Time to be simulated\n",
    "sim_duration = 10000\n",
    "\n",
    "# Initialize the production line\n",
    "prod_line = UnreliableProductionLine(mu=mu, \n",
    "                                        r=r, \n",
    "                                        p=p, \n",
    "                                        C=C)\n",
    "\n",
    "# Simulate M times\n",
    "M = 30\n",
    "th_m, avg_buffer = prod_line.simulate_M(sim_duration=sim_duration, M=M)\n",
    "print(\"Throughput (M):\", th_m)"
   ]
  },
  {
   "cell_type": "code",
   "execution_count": 2,
   "metadata": {},
   "outputs": [
    {
     "name": "stdout",
     "output_type": "stream",
     "text": [
      "(np.float64(5.0094666666666665), np.float64(4.965704962348472), np.float64(5.053228370984861), np.float64(0.08752340863638959))\n"
     ]
    }
   ],
   "source": [
    "# for tight confidence interval let n approach infinity\n",
    "mean_th, lower_th, upper_th, h_th = mean_confidence_interval(th_m)\n",
    "print((mean_th, lower_th, upper_th, 2*h_th))"
   ]
  },
  {
   "cell_type": "code",
   "execution_count": 3,
   "metadata": {},
   "outputs": [
    {
     "name": "stdout",
     "output_type": "stream",
     "text": [
      "(np.float64(2.5328267217616482), np.float64(2.5157979528818473), np.float64(2.5498554906414492), np.float64(0.034057537759602075))\n",
      "(np.float64(6.307371311198007), np.float64(6.246390590893367), np.float64(6.3683520315026465), np.float64(0.12196144060927991))\n",
      "(np.float64(1.3850972764956675), np.float64(1.3608549239136132), np.float64(1.4093396290777218), np.float64(0.04848470516410879))\n",
      "(np.float64(1.0023778654484805), np.float64(0.9899521501333989), np.float64(1.0148035807635623), np.float64(0.024851430630163335))\n"
     ]
    }
   ],
   "source": [
    "avg_buffer = np.array(avg_buffer)\n",
    "\n",
    "for i in range(avg_buffer.shape[1]):\n",
    "    mean_buffer, lower_buffer, upper_buffer, h_buffer = mean_confidence_interval(avg_buffer[:, i])\n",
    "    print((mean_buffer, lower_buffer, upper_buffer, 2*h_buffer))\n",
    "    # print(\"Ratio of throughput and buffer interval length:\", round(h_th/h_buffer, 2), \"\\n\")"
   ]
  }
 ],
 "metadata": {
  "kernelspec": {
   "display_name": "Python 3",
   "language": "python",
   "name": "python3"
  },
  "language_info": {
   "codemirror_mode": {
    "name": "ipython",
    "version": 3
   },
   "file_extension": ".py",
   "mimetype": "text/x-python",
   "name": "python",
   "nbconvert_exporter": "python",
   "pygments_lexer": "ipython3",
   "version": "3.10.12"
  }
 },
 "nbformat": 4,
 "nbformat_minor": 2
}

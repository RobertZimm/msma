{
 "cells": [
  {
   "cell_type": "code",
   "execution_count": null,
   "metadata": {},
   "outputs": [],
   "source": [
    "from NMachineLineUnreliable import UnreliableProductionLine\n",
    "import numpy as np\n",
    "import random\n",
    "\n",
    "\n",
    "mu = np.array([ 10,   11,   12, 13,   14]) # processing rates\n",
    "p  = np.array([ 0.01, 0.01, 0.01, 0.01, 0.01]) # failure rates\n",
    "r  = np.array([ 0.1,  0.1,  0.1,  0.1,  0.1]) # repair rates\n",
    "    \n",
    "# Size of buffers between machines\n",
    "C = np.array([4, 3, 2, 1])\n",
    "\n",
    "# Time to be simulated\n",
    "sim_duration = 5000\n",
    "seed = random.randint(0, 1000)\n",
    "\n",
    "# Initialize the production line\n",
    "prod_line = UnreliableProductionLine(mu=mu, \n",
    "                                        r=r, \n",
    "                                        p=p, \n",
    "                                        C=C)\n",
    "\n",
    "# Simulate M times\n",
    "M = 30\n",
    "th_m = prod_line.simulate_M(sim_duration=sim_duration, M=M)\n",
    "print(\"Throughput (M):\", th_m)"
   ]
  },
  {
   "cell_type": "code",
   "execution_count": null,
   "metadata": {},
   "outputs": [],
   "source": []
  }
 ],
 "metadata": {
  "kernelspec": {
   "display_name": "Python 3",
   "language": "python",
   "name": "python3"
  },
  "language_info": {
   "codemirror_mode": {
    "name": "ipython",
    "version": 3
   },
   "file_extension": ".py",
   "mimetype": "text/x-python",
   "name": "python",
   "nbconvert_exporter": "python",
   "pygments_lexer": "ipython3",
   "version": "3.10.12"
  }
 },
 "nbformat": 4,
 "nbformat_minor": 2
}

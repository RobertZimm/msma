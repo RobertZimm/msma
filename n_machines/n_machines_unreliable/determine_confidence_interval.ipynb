{
 "cells": [
  {
   "cell_type": "code",
   "execution_count": 1,
   "metadata": {},
   "outputs": [],
   "source": [
    "from n_unreliable_machines_numerical import UnreliableProductionLine, mean_confidence_interval\n",
    "import numpy as np\n",
    "\n",
    "\n",
    "mu = np.array([1, 8]) # processing rates\n",
    "p  = np.array([0.1, 0.001]) # failure rates\n",
    "r  = np.array([0.2, 10]) # repair rates\n",
    "    \n",
    "# Size of buffers between machines\n",
    "C = np.array([200], dtype=int)\n",
    "\n",
    "# Time to be simulated\n",
    "sim_duration = 10000\n",
    "\n",
    "# Initialize the production line\n",
    "prod_line = UnreliableProductionLine(mu=mu, \n",
    "                                        r=r, \n",
    "                                        p=p, \n",
    "                                        C=C)\n",
    "\n",
    "# Simulate M times\n",
    "M = 30\n",
    "th_m, avg_buffer = prod_line.simulate_M(sim_duration=sim_duration, M=M)"
   ]
  },
  {
   "cell_type": "code",
   "execution_count": 2,
   "metadata": {},
   "outputs": [
    {
     "name": "stdout",
     "output_type": "stream",
     "text": [
      "0.6668028844652196 (0.6658679186067876, 0.6677378503236516)\n"
     ]
    }
   ],
   "source": [
    "# for tight confidence interval let n approach infinity\n",
    "mean_th, conf_th = mean_confidence_interval(th_m)\n",
    "print(mean_th, conf_th)"
   ]
  },
  {
   "cell_type": "code",
   "execution_count": 3,
   "metadata": {},
   "outputs": [
    {
     "name": "stdout",
     "output_type": "stream",
     "text": [
      "0.5619696822569656 (0.5612214902276472, 0.5627178742862841)\n"
     ]
    }
   ],
   "source": [
    "avg_buffer = np.array(avg_buffer)\n",
    "\n",
    "for i in range(avg_buffer.shape[1]):\n",
    "    mean_buffer, conf_buffer = mean_confidence_interval(avg_buffer[:, i])\n",
    "    print(mean_buffer, conf_buffer)"
   ]
  }
 ],
 "metadata": {
  "kernelspec": {
   "display_name": "Python 3",
   "language": "python",
   "name": "python3"
  },
  "language_info": {
   "codemirror_mode": {
    "name": "ipython",
    "version": 3
   },
   "file_extension": ".py",
   "mimetype": "text/x-python",
   "name": "python",
   "nbconvert_exporter": "python",
   "pygments_lexer": "ipython3",
   "version": "3.10.12"
  }
 },
 "nbformat": 4,
 "nbformat_minor": 2
}
